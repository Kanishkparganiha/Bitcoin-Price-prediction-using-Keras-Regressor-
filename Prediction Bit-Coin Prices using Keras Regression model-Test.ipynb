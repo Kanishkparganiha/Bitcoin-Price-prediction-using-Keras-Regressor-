{
 "cells": [
  {
   "cell_type": "markdown",
   "metadata": {},
   "source": [
    "## Importing Datasets"
   ]
  },
  {
   "cell_type": "code",
   "execution_count": 1,
   "metadata": {},
   "outputs": [
    {
     "data": {
      "text/html": [
       "<div>\n",
       "<style scoped>\n",
       "    .dataframe tbody tr th:only-of-type {\n",
       "        vertical-align: middle;\n",
       "    }\n",
       "\n",
       "    .dataframe tbody tr th {\n",
       "        vertical-align: top;\n",
       "    }\n",
       "\n",
       "    .dataframe thead th {\n",
       "        text-align: right;\n",
       "    }\n",
       "</style>\n",
       "<table border=\"1\" class=\"dataframe\">\n",
       "  <thead>\n",
       "    <tr style=\"text-align: right;\">\n",
       "      <th></th>\n",
       "      <th>Date</th>\n",
       "      <th>Open</th>\n",
       "      <th>High</th>\n",
       "      <th>Low</th>\n",
       "      <th>Close</th>\n",
       "      <th>Volume</th>\n",
       "      <th>Market Cap</th>\n",
       "    </tr>\n",
       "  </thead>\n",
       "  <tbody>\n",
       "    <tr>\n",
       "      <th>0</th>\n",
       "      <td>Jul 31, 2017</td>\n",
       "      <td>2763.24</td>\n",
       "      <td>2889.62</td>\n",
       "      <td>2720.61</td>\n",
       "      <td>2875.34</td>\n",
       "      <td>860,575,000</td>\n",
       "      <td>45,535,800,000</td>\n",
       "    </tr>\n",
       "    <tr>\n",
       "      <th>1</th>\n",
       "      <td>Jul 30, 2017</td>\n",
       "      <td>2724.39</td>\n",
       "      <td>2758.53</td>\n",
       "      <td>2644.85</td>\n",
       "      <td>2757.18</td>\n",
       "      <td>705,943,000</td>\n",
       "      <td>44,890,700,000</td>\n",
       "    </tr>\n",
       "    <tr>\n",
       "      <th>2</th>\n",
       "      <td>Jul 29, 2017</td>\n",
       "      <td>2807.02</td>\n",
       "      <td>2808.76</td>\n",
       "      <td>2692.80</td>\n",
       "      <td>2726.45</td>\n",
       "      <td>803,746,000</td>\n",
       "      <td>46,246,700,000</td>\n",
       "    </tr>\n",
       "    <tr>\n",
       "      <th>3</th>\n",
       "      <td>Jul 28, 2017</td>\n",
       "      <td>2679.73</td>\n",
       "      <td>2897.45</td>\n",
       "      <td>2679.73</td>\n",
       "      <td>2809.01</td>\n",
       "      <td>1,380,100,000</td>\n",
       "      <td>44,144,400,000</td>\n",
       "    </tr>\n",
       "    <tr>\n",
       "      <th>4</th>\n",
       "      <td>Jul 27, 2017</td>\n",
       "      <td>2538.71</td>\n",
       "      <td>2693.32</td>\n",
       "      <td>2529.34</td>\n",
       "      <td>2671.78</td>\n",
       "      <td>789,104,000</td>\n",
       "      <td>41,816,500,000</td>\n",
       "    </tr>\n",
       "  </tbody>\n",
       "</table>\n",
       "</div>"
      ],
      "text/plain": [
       "           Date     Open     High      Low    Close         Volume  \\\n",
       "0  Jul 31, 2017  2763.24  2889.62  2720.61  2875.34    860,575,000   \n",
       "1  Jul 30, 2017  2724.39  2758.53  2644.85  2757.18    705,943,000   \n",
       "2  Jul 29, 2017  2807.02  2808.76  2692.80  2726.45    803,746,000   \n",
       "3  Jul 28, 2017  2679.73  2897.45  2679.73  2809.01  1,380,100,000   \n",
       "4  Jul 27, 2017  2538.71  2693.32  2529.34  2671.78    789,104,000   \n",
       "\n",
       "       Market Cap  \n",
       "0  45,535,800,000  \n",
       "1  44,890,700,000  \n",
       "2  46,246,700,000  \n",
       "3  44,144,400,000  \n",
       "4  41,816,500,000  "
      ]
     },
     "execution_count": 1,
     "metadata": {},
     "output_type": "execute_result"
    }
   ],
   "source": [
    "import numpy as np\n",
    "import pandas as pd\n",
    "import seaborn as sns\n",
    "import matplotlib.pyplot as plt\n",
    "%matplotlib inline\n",
    "df = pd.read_csv(r'C:\\Users\\Kanishk\\Downloads\\IE Courses\\Data Science\\Udemy-Machine Learning\\bitcoin-price-prediction\\bitcoin_price_Training - Training.csv')\n",
    "df.head()\n"
   ]
  },
  {
   "cell_type": "markdown",
   "metadata": {},
   "source": [
    "## Data Cleaning"
   ]
  },
  {
   "cell_type": "code",
   "execution_count": 2,
   "metadata": {},
   "outputs": [
    {
     "data": {
      "text/html": [
       "<div>\n",
       "<style scoped>\n",
       "    .dataframe tbody tr th:only-of-type {\n",
       "        vertical-align: middle;\n",
       "    }\n",
       "\n",
       "    .dataframe tbody tr th {\n",
       "        vertical-align: top;\n",
       "    }\n",
       "\n",
       "    .dataframe thead th {\n",
       "        text-align: right;\n",
       "    }\n",
       "</style>\n",
       "<table border=\"1\" class=\"dataframe\">\n",
       "  <thead>\n",
       "    <tr style=\"text-align: right;\">\n",
       "      <th></th>\n",
       "      <th>Date</th>\n",
       "      <th>Open</th>\n",
       "      <th>High</th>\n",
       "      <th>Low</th>\n",
       "      <th>Close</th>\n",
       "      <th>Volume</th>\n",
       "      <th>Market Cap</th>\n",
       "    </tr>\n",
       "  </thead>\n",
       "  <tbody>\n",
       "    <tr>\n",
       "      <th>0</th>\n",
       "      <td>Jul 31, 2017</td>\n",
       "      <td>2763.24</td>\n",
       "      <td>2889.62</td>\n",
       "      <td>2720.61</td>\n",
       "      <td>2875.34</td>\n",
       "      <td>860575000</td>\n",
       "      <td>45535800000</td>\n",
       "    </tr>\n",
       "    <tr>\n",
       "      <th>1</th>\n",
       "      <td>Jul 30, 2017</td>\n",
       "      <td>2724.39</td>\n",
       "      <td>2758.53</td>\n",
       "      <td>2644.85</td>\n",
       "      <td>2757.18</td>\n",
       "      <td>705943000</td>\n",
       "      <td>44890700000</td>\n",
       "    </tr>\n",
       "    <tr>\n",
       "      <th>2</th>\n",
       "      <td>Jul 29, 2017</td>\n",
       "      <td>2807.02</td>\n",
       "      <td>2808.76</td>\n",
       "      <td>2692.80</td>\n",
       "      <td>2726.45</td>\n",
       "      <td>803746000</td>\n",
       "      <td>46246700000</td>\n",
       "    </tr>\n",
       "    <tr>\n",
       "      <th>3</th>\n",
       "      <td>Jul 28, 2017</td>\n",
       "      <td>2679.73</td>\n",
       "      <td>2897.45</td>\n",
       "      <td>2679.73</td>\n",
       "      <td>2809.01</td>\n",
       "      <td>1380100000</td>\n",
       "      <td>44144400000</td>\n",
       "    </tr>\n",
       "    <tr>\n",
       "      <th>4</th>\n",
       "      <td>Jul 27, 2017</td>\n",
       "      <td>2538.71</td>\n",
       "      <td>2693.32</td>\n",
       "      <td>2529.34</td>\n",
       "      <td>2671.78</td>\n",
       "      <td>789104000</td>\n",
       "      <td>41816500000</td>\n",
       "    </tr>\n",
       "  </tbody>\n",
       "</table>\n",
       "</div>"
      ],
      "text/plain": [
       "           Date     Open     High      Low    Close      Volume   Market Cap\n",
       "0  Jul 31, 2017  2763.24  2889.62  2720.61  2875.34   860575000  45535800000\n",
       "1  Jul 30, 2017  2724.39  2758.53  2644.85  2757.18   705943000  44890700000\n",
       "2  Jul 29, 2017  2807.02  2808.76  2692.80  2726.45   803746000  46246700000\n",
       "3  Jul 28, 2017  2679.73  2897.45  2679.73  2809.01  1380100000  44144400000\n",
       "4  Jul 27, 2017  2538.71  2693.32  2529.34  2671.78   789104000  41816500000"
      ]
     },
     "execution_count": 2,
     "metadata": {},
     "output_type": "execute_result"
    }
   ],
   "source": [
    "df=df.fillna(df.mean())\n",
    "df.iloc[:,1:7] = df.iloc[:,1:7].replace({'\\-': '', ',': ''}, regex=True)\n",
    "df.head()"
   ]
  },
  {
   "cell_type": "code",
   "execution_count": 3,
   "metadata": {},
   "outputs": [
    {
     "name": "stdout",
     "output_type": "stream",
     "text": [
      "<class 'pandas.core.frame.DataFrame'>\n",
      "RangeIndex: 1556 entries, 0 to 1555\n",
      "Data columns (total 7 columns):\n",
      "Date          1556 non-null object\n",
      "Open          1556 non-null float64\n",
      "High          1556 non-null float64\n",
      "Low           1556 non-null float64\n",
      "Close         1556 non-null float64\n",
      "Volume        1556 non-null object\n",
      "Market Cap    1556 non-null object\n",
      "dtypes: float64(4), object(3)\n",
      "memory usage: 85.2+ KB\n",
      "<class 'pandas.core.frame.DataFrame'>\n",
      "RangeIndex: 1556 entries, 0 to 1555\n",
      "Data columns (total 7 columns):\n",
      "Date          1556 non-null object\n",
      "Open          1556 non-null float64\n",
      "High          1556 non-null float64\n",
      "Low           1556 non-null float64\n",
      "Close         1556 non-null float64\n",
      "Volume        1313 non-null float64\n",
      "Market Cap    1556 non-null float64\n",
      "dtypes: float64(6), object(1)\n",
      "memory usage: 85.2+ KB\n"
     ]
    }
   ],
   "source": [
    "df.info()\n",
    "df.head()\n",
    "df['Volume']=pd.to_numeric(df['Volume'])\n",
    "df['Market Cap']=pd.to_numeric(df['Market Cap'])\n",
    "df[['Volume','Market Cap']]=df[['Volume','Market Cap']].astype('float64')\n",
    "df.info()"
   ]
  },
  {
   "cell_type": "markdown",
   "metadata": {},
   "source": [
    "## Checking for null values"
   ]
  },
  {
   "cell_type": "code",
   "execution_count": 4,
   "metadata": {},
   "outputs": [
    {
     "data": {
      "text/plain": [
       "Date            0\n",
       "Open            0\n",
       "High            0\n",
       "Low             0\n",
       "Close           0\n",
       "Volume        243\n",
       "Market Cap      0\n",
       "dtype: int64"
      ]
     },
     "execution_count": 4,
     "metadata": {},
     "output_type": "execute_result"
    }
   ],
   "source": [
    "df.isna().sum()"
   ]
  },
  {
   "cell_type": "markdown",
   "metadata": {},
   "source": [
    "## Imputation of Missing Values"
   ]
  },
  {
   "cell_type": "code",
   "execution_count": 5,
   "metadata": {},
   "outputs": [],
   "source": [
    "import numpy as np\n",
    "from sklearn.impute import SimpleImputer\n",
    "imp = SimpleImputer(missing_values=np.nan, strategy='median')\n",
    "imp.fit(df['Volume'].values.reshape(-1,1))\n",
    "SimpleImputer()\n",
    "df['Volume']=imp.transform(df['Volume'].values.reshape(-1,1))"
   ]
  },
  {
   "cell_type": "markdown",
   "metadata": {},
   "source": [
    "## Data Preparation "
   ]
  },
  {
   "cell_type": "code",
   "execution_count": 6,
   "metadata": {},
   "outputs": [],
   "source": [
    "X=df.iloc[:,1:6]\n",
    "y=df.iloc[:,6].values"
   ]
  },
  {
   "cell_type": "markdown",
   "metadata": {},
   "source": [
    "## Data Standardization using StandardScaler function"
   ]
  },
  {
   "cell_type": "code",
   "execution_count": 7,
   "metadata": {},
   "outputs": [],
   "source": [
    "from sklearn.preprocessing import StandardScaler\n",
    "sc= StandardScaler()\n",
    "X= sc.fit_transform(X)\n",
    "y= y.reshape(-1,1)\n",
    "y=sc.fit_transform(y)\n",
    "\n"
   ]
  },
  {
   "cell_type": "markdown",
   "metadata": {},
   "source": [
    "## Descriptive Statistics"
   ]
  },
  {
   "cell_type": "code",
   "execution_count": 8,
   "metadata": {},
   "outputs": [
    {
     "data": {
      "text/html": [
       "<div>\n",
       "<style scoped>\n",
       "    .dataframe tbody tr th:only-of-type {\n",
       "        vertical-align: middle;\n",
       "    }\n",
       "\n",
       "    .dataframe tbody tr th {\n",
       "        vertical-align: top;\n",
       "    }\n",
       "\n",
       "    .dataframe thead th {\n",
       "        text-align: right;\n",
       "    }\n",
       "</style>\n",
       "<table border=\"1\" class=\"dataframe\">\n",
       "  <thead>\n",
       "    <tr style=\"text-align: right;\">\n",
       "      <th></th>\n",
       "      <th>Open</th>\n",
       "      <th>High</th>\n",
       "      <th>Low</th>\n",
       "      <th>Close</th>\n",
       "      <th>Volume</th>\n",
       "      <th>Market Cap</th>\n",
       "    </tr>\n",
       "  </thead>\n",
       "  <tbody>\n",
       "    <tr>\n",
       "      <th>count</th>\n",
       "      <td>1556.000000</td>\n",
       "      <td>1556.000000</td>\n",
       "      <td>1556.000000</td>\n",
       "      <td>1556.000000</td>\n",
       "      <td>1.556000e+03</td>\n",
       "      <td>1.556000e+03</td>\n",
       "    </tr>\n",
       "    <tr>\n",
       "      <th>mean</th>\n",
       "      <td>582.625328</td>\n",
       "      <td>597.992847</td>\n",
       "      <td>567.851446</td>\n",
       "      <td>584.239396</td>\n",
       "      <td>1.321002e+08</td>\n",
       "      <td>8.694353e+09</td>\n",
       "    </tr>\n",
       "    <tr>\n",
       "      <th>std</th>\n",
       "      <td>523.137312</td>\n",
       "      <td>542.992855</td>\n",
       "      <td>505.877401</td>\n",
       "      <td>525.904442</td>\n",
       "      <td>3.002166e+08</td>\n",
       "      <td>8.707288e+09</td>\n",
       "    </tr>\n",
       "    <tr>\n",
       "      <th>min</th>\n",
       "      <td>68.500000</td>\n",
       "      <td>74.560000</td>\n",
       "      <td>65.530000</td>\n",
       "      <td>68.430000</td>\n",
       "      <td>2.857830e+06</td>\n",
       "      <td>7.792550e+08</td>\n",
       "    </tr>\n",
       "    <tr>\n",
       "      <th>25%</th>\n",
       "      <td>254.287500</td>\n",
       "      <td>260.327500</td>\n",
       "      <td>248.835000</td>\n",
       "      <td>254.320000</td>\n",
       "      <td>2.322780e+07</td>\n",
       "      <td>3.598355e+09</td>\n",
       "    </tr>\n",
       "    <tr>\n",
       "      <th>50%</th>\n",
       "      <td>438.600000</td>\n",
       "      <td>447.560000</td>\n",
       "      <td>430.570000</td>\n",
       "      <td>438.855000</td>\n",
       "      <td>4.530140e+07</td>\n",
       "      <td>6.386210e+09</td>\n",
       "    </tr>\n",
       "    <tr>\n",
       "      <th>75%</th>\n",
       "      <td>662.437500</td>\n",
       "      <td>674.525000</td>\n",
       "      <td>646.735000</td>\n",
       "      <td>663.402500</td>\n",
       "      <td>7.767028e+07</td>\n",
       "      <td>9.898830e+09</td>\n",
       "    </tr>\n",
       "    <tr>\n",
       "      <th>max</th>\n",
       "      <td>2953.220000</td>\n",
       "      <td>2999.910000</td>\n",
       "      <td>2840.530000</td>\n",
       "      <td>2958.110000</td>\n",
       "      <td>2.569530e+09</td>\n",
       "      <td>4.839120e+10</td>\n",
       "    </tr>\n",
       "  </tbody>\n",
       "</table>\n",
       "</div>"
      ],
      "text/plain": [
       "              Open         High          Low        Close        Volume  \\\n",
       "count  1556.000000  1556.000000  1556.000000  1556.000000  1.556000e+03   \n",
       "mean    582.625328   597.992847   567.851446   584.239396  1.321002e+08   \n",
       "std     523.137312   542.992855   505.877401   525.904442  3.002166e+08   \n",
       "min      68.500000    74.560000    65.530000    68.430000  2.857830e+06   \n",
       "25%     254.287500   260.327500   248.835000   254.320000  2.322780e+07   \n",
       "50%     438.600000   447.560000   430.570000   438.855000  4.530140e+07   \n",
       "75%     662.437500   674.525000   646.735000   663.402500  7.767028e+07   \n",
       "max    2953.220000  2999.910000  2840.530000  2958.110000  2.569530e+09   \n",
       "\n",
       "         Market Cap  \n",
       "count  1.556000e+03  \n",
       "mean   8.694353e+09  \n",
       "std    8.707288e+09  \n",
       "min    7.792550e+08  \n",
       "25%    3.598355e+09  \n",
       "50%    6.386210e+09  \n",
       "75%    9.898830e+09  \n",
       "max    4.839120e+10  "
      ]
     },
     "execution_count": 8,
     "metadata": {},
     "output_type": "execute_result"
    }
   ],
   "source": [
    "df.describe()"
   ]
  },
  {
   "cell_type": "code",
   "execution_count": 9,
   "metadata": {},
   "outputs": [
    {
     "data": {
      "text/html": [
       "<div>\n",
       "<style scoped>\n",
       "    .dataframe tbody tr th:only-of-type {\n",
       "        vertical-align: middle;\n",
       "    }\n",
       "\n",
       "    .dataframe tbody tr th {\n",
       "        vertical-align: top;\n",
       "    }\n",
       "\n",
       "    .dataframe thead th {\n",
       "        text-align: right;\n",
       "    }\n",
       "</style>\n",
       "<table border=\"1\" class=\"dataframe\">\n",
       "  <thead>\n",
       "    <tr style=\"text-align: right;\">\n",
       "      <th></th>\n",
       "      <th>Open</th>\n",
       "      <th>High</th>\n",
       "      <th>Low</th>\n",
       "      <th>Close</th>\n",
       "      <th>Volume</th>\n",
       "      <th>Market Cap</th>\n",
       "    </tr>\n",
       "  </thead>\n",
       "  <tbody>\n",
       "    <tr>\n",
       "      <th>Open</th>\n",
       "      <td>1.000000</td>\n",
       "      <td>0.998561</td>\n",
       "      <td>0.998157</td>\n",
       "      <td>0.997514</td>\n",
       "      <td>0.859385</td>\n",
       "      <td>0.995153</td>\n",
       "    </tr>\n",
       "    <tr>\n",
       "      <th>High</th>\n",
       "      <td>0.998561</td>\n",
       "      <td>1.000000</td>\n",
       "      <td>0.997320</td>\n",
       "      <td>0.998596</td>\n",
       "      <td>0.869534</td>\n",
       "      <td>0.993298</td>\n",
       "    </tr>\n",
       "    <tr>\n",
       "      <th>Low</th>\n",
       "      <td>0.998157</td>\n",
       "      <td>0.997320</td>\n",
       "      <td>1.000000</td>\n",
       "      <td>0.998755</td>\n",
       "      <td>0.852743</td>\n",
       "      <td>0.994575</td>\n",
       "    </tr>\n",
       "    <tr>\n",
       "      <th>Close</th>\n",
       "      <td>0.997514</td>\n",
       "      <td>0.998596</td>\n",
       "      <td>0.998755</td>\n",
       "      <td>1.000000</td>\n",
       "      <td>0.861193</td>\n",
       "      <td>0.993041</td>\n",
       "    </tr>\n",
       "    <tr>\n",
       "      <th>Volume</th>\n",
       "      <td>0.859385</td>\n",
       "      <td>0.869534</td>\n",
       "      <td>0.852743</td>\n",
       "      <td>0.861193</td>\n",
       "      <td>1.000000</td>\n",
       "      <td>0.876105</td>\n",
       "    </tr>\n",
       "    <tr>\n",
       "      <th>Market Cap</th>\n",
       "      <td>0.995153</td>\n",
       "      <td>0.993298</td>\n",
       "      <td>0.994575</td>\n",
       "      <td>0.993041</td>\n",
       "      <td>0.876105</td>\n",
       "      <td>1.000000</td>\n",
       "    </tr>\n",
       "  </tbody>\n",
       "</table>\n",
       "</div>"
      ],
      "text/plain": [
       "                Open      High       Low     Close    Volume  Market Cap\n",
       "Open        1.000000  0.998561  0.998157  0.997514  0.859385    0.995153\n",
       "High        0.998561  1.000000  0.997320  0.998596  0.869534    0.993298\n",
       "Low         0.998157  0.997320  1.000000  0.998755  0.852743    0.994575\n",
       "Close       0.997514  0.998596  0.998755  1.000000  0.861193    0.993041\n",
       "Volume      0.859385  0.869534  0.852743  0.861193  1.000000    0.876105\n",
       "Market Cap  0.995153  0.993298  0.994575  0.993041  0.876105    1.000000"
      ]
     },
     "execution_count": 9,
     "metadata": {},
     "output_type": "execute_result"
    }
   ],
   "source": [
    "df.corr()"
   ]
  },
  {
   "cell_type": "code",
   "execution_count": 10,
   "metadata": {},
   "outputs": [
    {
     "data": {
      "text/plain": [
       "<matplotlib.axes._subplots.AxesSubplot at 0x22192a96b00>"
      ]
     },
     "execution_count": 10,
     "metadata": {},
     "output_type": "execute_result"
    },
    {
     "data": {
      "image/png": "[encoded data removed]",
      "text/plain": [
       "<Figure size 432x288 with 2 Axes>"
      ]
     },
     "metadata": {
      "needs_background": "light"
     },
     "output_type": "display_data"
    }
   ],
   "source": [
    "sns.heatmap(df.corr(),annot=True)"
   ]
  },
  {
   "cell_type": "code",
   "execution_count": 11,
   "metadata": {},
   "outputs": [],
   "source": [
    "from sklearn.model_selection import train_test_split\n",
    "X_train, X_test, y_train, y_test = train_test_split(X, y, test_size=0.3)"
   ]
  },
  {
   "cell_type": "markdown",
   "metadata": {},
   "source": [
    "## Making Keras Model with 5 input layers, 5 hidden layers and 1 output layer"
   ]
  },
  {
   "cell_type": "code",
   "execution_count": 19,
   "metadata": {},
   "outputs": [],
   "source": [
    "from keras.models import load_model\n",
    "model = load_model(r'C:\\Users\\Kanishk\\Downloads\\IE Courses\\Data Science\\Python\\Keras\\best_regressor_model.h5')"
   ]
  },
  {
   "cell_type": "code",
   "execution_count": 13,
   "metadata": {},
   "outputs": [],
   "source": [
    "from keras import Sequential\n",
    "from keras.layers import Dense\n",
    "from keras.callbacks import EarlyStopping, ModelCheckpoint\n"
   ]
  },
  {
   "cell_type": "code",
   "execution_count": 14,
   "metadata": {},
   "outputs": [
    {
     "name": "stdout",
     "output_type": "stream",
     "text": [
      "Model: \"sequential_1\"\n",
      "_________________________________________________________________\n",
      "Layer (type)                 Output Shape              Param #   \n",
      "=================================================================\n",
      "dense_1 (Dense)              (None, 5)                 30        \n",
      "_________________________________________________________________\n",
      "dense_2 (Dense)              (None, 5)                 30        \n",
      "_________________________________________________________________\n",
      "dense_3 (Dense)              (None, 1)                 6         \n",
      "=================================================================\n",
      "Total params: 66\n",
      "Trainable params: 66\n",
      "Non-trainable params: 0\n",
      "_________________________________________________________________\n"
     ]
    }
   ],
   "source": [
    "from keras.wrappers.scikit_learn import KerasRegressor\n",
    "model = Sequential()\n",
    "model.add(Dense(5, input_dim=5, kernel_initializer='normal', activation='relu'))\n",
    "model.add(Dense(5, activation='relu'))\n",
    "model.add(Dense(1, activation='linear'))\n",
    "model.summary()"
   ]
  },
  {
   "cell_type": "code",
   "execution_count": 38,
   "metadata": {},
   "outputs": [],
   "source": [
    "model.compile(loss='mse', optimizer='adam', metrics=['mse','mae','accuracy'])"
   ]
  },
  {
   "cell_type": "code",
   "execution_count": 20,
   "metadata": {},
   "outputs": [
    {
     "name": "stdout",
     "output_type": "stream",
     "text": [
      "\n",
      "Epoch 00001: mse improved from inf to 0.00025, saving model to C:\\Users\\Kanishk\\Downloads\\IE Courses\\Data Science\\Python\\Keras\\best_regressor_model.h5\n",
      "\n",
      "Epoch 00002: mse did not improve from 0.00025\n",
      "\n",
      "Epoch 00003: mse did not improve from 0.00025\n",
      "\n",
      "Epoch 00004: mse did not improve from 0.00025\n",
      "\n",
      "Epoch 00005: mse did not improve from 0.00025\n",
      "\n",
      "Epoch 00006: mse did not improve from 0.00025\n",
      "\n",
      "Epoch 00007: mse did not improve from 0.00025\n",
      "\n",
      "Epoch 00008: mse did not improve from 0.00025\n",
      "\n",
      "Epoch 00009: mse did not improve from 0.00025\n",
      "\n",
      "Epoch 00010: mse improved from 0.00025 to 0.00024, saving model to C:\\Users\\Kanishk\\Downloads\\IE Courses\\Data Science\\Python\\Keras\\best_regressor_model.h5\n",
      "\n",
      "Epoch 00011: mse did not improve from 0.00024\n",
      "\n",
      "Epoch 00012: mse did not improve from 0.00024\n",
      "\n",
      "Epoch 00013: mse did not improve from 0.00024\n",
      "\n",
      "Epoch 00014: mse did not improve from 0.00024\n",
      "\n",
      "Epoch 00015: mse did not improve from 0.00024\n",
      "\n",
      "Epoch 00016: mse did not improve from 0.00024\n",
      "\n",
      "Epoch 00017: mse did not improve from 0.00024\n",
      "\n",
      "Epoch 00018: mse did not improve from 0.00024\n",
      "\n",
      "Epoch 00019: mse did not improve from 0.00024\n",
      "\n",
      "Epoch 00020: mse did not improve from 0.00024\n",
      "\n",
      "Epoch 00021: mse did not improve from 0.00024\n",
      "\n",
      "Epoch 00022: mse did not improve from 0.00024\n",
      "\n",
      "Epoch 00023: mse did not improve from 0.00024\n",
      "\n",
      "Epoch 00024: mse did not improve from 0.00024\n",
      "\n",
      "Epoch 00025: mse did not improve from 0.00024\n",
      "\n",
      "Epoch 00026: mse did not improve from 0.00024\n",
      "\n",
      "Epoch 00027: mse did not improve from 0.00024\n",
      "\n",
      "Epoch 00028: mse did not improve from 0.00024\n",
      "\n",
      "Epoch 00029: mse did not improve from 0.00024\n",
      "\n",
      "Epoch 00030: mse did not improve from 0.00024\n",
      "\n",
      "Epoch 00031: mse did not improve from 0.00024\n",
      "\n",
      "Epoch 00032: mse did not improve from 0.00024\n",
      "\n",
      "Epoch 00033: mse did not improve from 0.00024\n",
      "\n",
      "Epoch 00034: mse did not improve from 0.00024\n",
      "\n",
      "Epoch 00035: mse did not improve from 0.00024\n",
      "\n",
      "Epoch 00036: mse did not improve from 0.00024\n",
      "\n",
      "Epoch 00037: mse did not improve from 0.00024\n",
      "\n",
      "Epoch 00038: mse did not improve from 0.00024\n",
      "\n",
      "Epoch 00039: mse did not improve from 0.00024\n",
      "\n",
      "Epoch 00040: mse did not improve from 0.00024\n",
      "\n",
      "Epoch 00041: mse did not improve from 0.00024\n",
      "\n",
      "Epoch 00042: mse did not improve from 0.00024\n",
      "\n",
      "Epoch 00043: mse did not improve from 0.00024\n",
      "\n",
      "Epoch 00044: mse did not improve from 0.00024\n",
      "\n",
      "Epoch 00045: mse did not improve from 0.00024\n",
      "\n",
      "Epoch 00046: mse did not improve from 0.00024\n",
      "\n",
      "Epoch 00047: mse did not improve from 0.00024\n",
      "\n",
      "Epoch 00048: mse did not improve from 0.00024\n",
      "\n",
      "Epoch 00049: mse did not improve from 0.00024\n",
      "\n",
      "Epoch 00050: mse did not improve from 0.00024\n",
      "\n",
      "Epoch 00051: mse did not improve from 0.00024\n",
      "\n",
      "Epoch 00052: mse did not improve from 0.00024\n",
      "\n",
      "Epoch 00053: mse did not improve from 0.00024\n",
      "\n",
      "Epoch 00054: mse did not improve from 0.00024\n",
      "\n",
      "Epoch 00055: mse did not improve from 0.00024\n",
      "\n",
      "Epoch 00056: mse did not improve from 0.00024\n",
      "\n",
      "Epoch 00057: mse did not improve from 0.00024\n",
      "\n",
      "Epoch 00058: mse did not improve from 0.00024\n",
      "\n",
      "Epoch 00059: mse did not improve from 0.00024\n",
      "\n",
      "Epoch 00060: mse did not improve from 0.00024\n",
      "\n",
      "Epoch 00061: mse did not improve from 0.00024\n",
      "\n",
      "Epoch 00062: mse did not improve from 0.00024\n",
      "\n",
      "Epoch 00063: mse improved from 0.00024 to 0.00023, saving model to C:\\Users\\Kanishk\\Downloads\\IE Courses\\Data Science\\Python\\Keras\\best_regressor_model.h5\n",
      "\n",
      "Epoch 00064: mse did not improve from 0.00023\n",
      "\n",
      "Epoch 00065: mse did not improve from 0.00023\n",
      "\n",
      "Epoch 00066: mse did not improve from 0.00023\n",
      "\n",
      "Epoch 00067: mse did not improve from 0.00023\n",
      "\n",
      "Epoch 00068: mse did not improve from 0.00023\n",
      "\n",
      "Epoch 00069: mse did not improve from 0.00023\n",
      "\n",
      "Epoch 00070: mse did not improve from 0.00023\n",
      "\n",
      "Epoch 00071: mse did not improve from 0.00023\n",
      "\n",
      "Epoch 00072: mse did not improve from 0.00023\n",
      "\n",
      "Epoch 00073: mse did not improve from 0.00023\n",
      "\n",
      "Epoch 00074: mse did not improve from 0.00023\n",
      "\n",
      "Epoch 00075: mse did not improve from 0.00023\n",
      "\n",
      "Epoch 00076: mse did not improve from 0.00023\n",
      "\n",
      "Epoch 00077: mse did not improve from 0.00023\n",
      "\n",
      "Epoch 00078: mse did not improve from 0.00023\n",
      "\n",
      "Epoch 00079: mse did not improve from 0.00023\n",
      "\n",
      "Epoch 00080: mse did not improve from 0.00023\n",
      "\n",
      "Epoch 00081: mse did not improve from 0.00023\n",
      "\n",
      "Epoch 00082: mse did not improve from 0.00023\n",
      "\n",
      "Epoch 00083: mse did not improve from 0.00023\n",
      "\n",
      "Epoch 00084: mse did not improve from 0.00023\n",
      "\n",
      "Epoch 00085: mse did not improve from 0.00023\n",
      "\n",
      "Epoch 00086: mse did not improve from 0.00023\n",
      "\n",
      "Epoch 00087: mse did not improve from 0.00023\n",
      "\n",
      "Epoch 00088: mse did not improve from 0.00023\n",
      "\n",
      "Epoch 00089: mse did not improve from 0.00023\n",
      "\n",
      "Epoch 00090: mse did not improve from 0.00023\n",
      "\n",
      "Epoch 00091: mse did not improve from 0.00023\n",
      "\n",
      "Epoch 00092: mse did not improve from 0.00023\n",
      "\n",
      "Epoch 00093: mse did not improve from 0.00023\n",
      "\n",
      "Epoch 00094: mse did not improve from 0.00023\n",
      "\n",
      "Epoch 00095: mse did not improve from 0.00023\n",
      "\n",
      "Epoch 00096: mse did not improve from 0.00023\n",
      "\n",
      "Epoch 00097: mse did not improve from 0.00023\n",
      "\n",
      "Epoch 00098: mse did not improve from 0.00023\n",
      "\n",
      "Epoch 00099: mse did not improve from 0.00023\n",
      "\n",
      "Epoch 00100: mse did not improve from 0.00023\n",
      "\n",
      "Epoch 00101: mse did not improve from 0.00023\n",
      "\n",
      "Epoch 00102: mse did not improve from 0.00023\n",
      "\n",
      "Epoch 00103: mse did not improve from 0.00023\n",
      "\n",
      "Epoch 00104: mse did not improve from 0.00023\n",
      "\n",
      "Epoch 00105: mse did not improve from 0.00023\n",
      "\n",
      "Epoch 00106: mse did not improve from 0.00023\n",
      "\n",
      "Epoch 00107: mse did not improve from 0.00023\n",
      "\n",
      "Epoch 00108: mse did not improve from 0.00023\n",
      "\n",
      "Epoch 00109: mse did not improve from 0.00023\n",
      "\n",
      "Epoch 00110: mse did not improve from 0.00023\n",
      "\n",
      "Epoch 00111: mse did not improve from 0.00023\n",
      "\n",
      "Epoch 00112: mse did not improve from 0.00023\n",
      "\n",
      "Epoch 00113: mse did not improve from 0.00023\n",
      "\n",
      "Epoch 00114: mse did not improve from 0.00023\n",
      "\n",
      "Epoch 00115: mse did not improve from 0.00023\n",
      "\n",
      "Epoch 00116: mse did not improve from 0.00023\n",
      "\n",
      "Epoch 00117: mse did not improve from 0.00023\n",
      "\n",
      "Epoch 00118: mse did not improve from 0.00023\n",
      "\n",
      "Epoch 00119: mse did not improve from 0.00023\n",
      "\n",
      "Epoch 00120: mse did not improve from 0.00023\n",
      "\n",
      "Epoch 00121: mse did not improve from 0.00023\n",
      "\n",
      "Epoch 00122: mse did not improve from 0.00023\n",
      "\n",
      "Epoch 00123: mse did not improve from 0.00023\n",
      "\n",
      "Epoch 00124: mse did not improve from 0.00023\n",
      "\n",
      "Epoch 00125: mse did not improve from 0.00023\n",
      "\n",
      "Epoch 00126: mse did not improve from 0.00023\n",
      "\n",
      "Epoch 00127: mse did not improve from 0.00023\n",
      "\n",
      "Epoch 00128: mse did not improve from 0.00023\n",
      "\n",
      "Epoch 00129: mse did not improve from 0.00023\n",
      "\n",
      "Epoch 00130: mse did not improve from 0.00023\n",
      "\n",
      "Epoch 00131: mse did not improve from 0.00023\n",
      "\n",
      "Epoch 00132: mse did not improve from 0.00023\n",
      "\n",
      "Epoch 00133: mse did not improve from 0.00023\n",
      "\n",
      "Epoch 00134: mse did not improve from 0.00023\n",
      "\n",
      "Epoch 00135: mse did not improve from 0.00023\n",
      "\n",
      "Epoch 00136: mse did not improve from 0.00023\n",
      "\n",
      "Epoch 00137: mse did not improve from 0.00023\n",
      "\n",
      "Epoch 00138: mse did not improve from 0.00023\n",
      "\n",
      "Epoch 00139: mse did not improve from 0.00023\n",
      "\n",
      "Epoch 00140: mse did not improve from 0.00023\n",
      "\n",
      "Epoch 00141: mse did not improve from 0.00023\n",
      "\n",
      "Epoch 00142: mse did not improve from 0.00023\n",
      "\n",
      "Epoch 00143: mse did not improve from 0.00023\n",
      "\n",
      "Epoch 00144: mse did not improve from 0.00023\n",
      "\n",
      "Epoch 00145: mse did not improve from 0.00023\n",
      "\n",
      "Epoch 00146: mse did not improve from 0.00023\n",
      "\n",
      "Epoch 00147: mse did not improve from 0.00023\n",
      "\n",
      "Epoch 00148: mse did not improve from 0.00023\n",
      "\n",
      "Epoch 00149: mse did not improve from 0.00023\n",
      "\n",
      "Epoch 00150: mse did not improve from 0.00023\n",
      "\n",
      "Epoch 00151: mse did not improve from 0.00023\n",
      "\n",
      "Epoch 00152: mse did not improve from 0.00023\n",
      "\n",
      "Epoch 00153: mse improved from 0.00023 to 0.00022, saving model to C:\\Users\\Kanishk\\Downloads\\IE Courses\\Data Science\\Python\\Keras\\best_regressor_model.h5\n",
      "\n",
      "Epoch 00154: mse did not improve from 0.00022\n",
      "\n",
      "Epoch 00155: mse did not improve from 0.00022\n",
      "\n",
      "Epoch 00156: mse did not improve from 0.00022\n",
      "\n",
      "Epoch 00157: mse did not improve from 0.00022\n",
      "\n",
      "Epoch 00158: mse did not improve from 0.00022\n",
      "\n",
      "Epoch 00159: mse did not improve from 0.00022\n",
      "\n",
      "Epoch 00160: mse did not improve from 0.00022\n",
      "\n",
      "Epoch 00161: mse did not improve from 0.00022\n",
      "\n",
      "Epoch 00162: mse did not improve from 0.00022\n",
      "\n",
      "Epoch 00163: mse did not improve from 0.00022\n",
      "\n",
      "Epoch 00164: mse did not improve from 0.00022\n",
      "\n",
      "Epoch 00165: mse did not improve from 0.00022\n",
      "\n",
      "Epoch 00166: mse did not improve from 0.00022\n"
     ]
    },
    {
     "name": "stdout",
     "output_type": "stream",
     "text": [
      "\n",
      "Epoch 00167: mse did not improve from 0.00022\n",
      "\n",
      "Epoch 00168: mse did not improve from 0.00022\n",
      "\n",
      "Epoch 00169: mse did not improve from 0.00022\n",
      "\n",
      "Epoch 00170: mse did not improve from 0.00022\n",
      "\n",
      "Epoch 00171: mse did not improve from 0.00022\n",
      "\n",
      "Epoch 00172: mse did not improve from 0.00022\n",
      "\n",
      "Epoch 00173: mse did not improve from 0.00022\n",
      "\n",
      "Epoch 00174: mse improved from 0.00022 to 0.00022, saving model to C:\\Users\\Kanishk\\Downloads\\IE Courses\\Data Science\\Python\\Keras\\best_regressor_model.h5\n",
      "\n",
      "Epoch 00175: mse did not improve from 0.00022\n",
      "\n",
      "Epoch 00176: mse did not improve from 0.00022\n",
      "\n",
      "Epoch 00177: mse did not improve from 0.00022\n",
      "\n",
      "Epoch 00178: mse did not improve from 0.00022\n",
      "\n",
      "Epoch 00179: mse did not improve from 0.00022\n",
      "\n",
      "Epoch 00180: mse did not improve from 0.00022\n",
      "\n",
      "Epoch 00181: mse did not improve from 0.00022\n",
      "\n",
      "Epoch 00182: mse did not improve from 0.00022\n",
      "\n",
      "Epoch 00183: mse did not improve from 0.00022\n",
      "\n",
      "Epoch 00184: mse did not improve from 0.00022\n",
      "\n",
      "Epoch 00185: mse did not improve from 0.00022\n",
      "\n",
      "Epoch 00186: mse did not improve from 0.00022\n",
      "\n",
      "Epoch 00187: mse did not improve from 0.00022\n",
      "\n",
      "Epoch 00188: mse did not improve from 0.00022\n",
      "\n",
      "Epoch 00189: mse did not improve from 0.00022\n",
      "\n",
      "Epoch 00190: mse did not improve from 0.00022\n",
      "\n",
      "Epoch 00191: mse did not improve from 0.00022\n",
      "\n",
      "Epoch 00192: mse did not improve from 0.00022\n",
      "\n",
      "Epoch 00193: mse did not improve from 0.00022\n",
      "\n",
      "Epoch 00194: mse did not improve from 0.00022\n",
      "\n",
      "Epoch 00195: mse did not improve from 0.00022\n",
      "\n",
      "Epoch 00196: mse did not improve from 0.00022\n",
      "\n",
      "Epoch 00197: mse did not improve from 0.00022\n",
      "\n",
      "Epoch 00198: mse did not improve from 0.00022\n",
      "\n",
      "Epoch 00199: mse did not improve from 0.00022\n",
      "\n",
      "Epoch 00200: mse did not improve from 0.00022\n"
     ]
    }
   ],
   "source": [
    "filepath=r'C:\\Users\\Kanishk\\Downloads\\IE Courses\\Data Science\\Python\\Keras\\best_regressor_model.h5'\n",
    "checkpoint = ModelCheckpoint(filepath, monitor='mse', verbose=1, save_best_only=True, mode='auto')\n",
    "callbacks_list = [checkpoint]\n",
    "# Fit the model\n",
    "history=model.fit(X_train,y_train, validation_split=0.33, epochs=200, batch_size=20, callbacks=callbacks_list, verbose=0)\n"
   ]
  },
  {
   "cell_type": "code",
   "execution_count": 21,
   "metadata": {},
   "outputs": [
    {
     "data": {
      "image/png": "[encoded data removed]",
      "text/plain": [
       "<Figure size 432x288 with 1 Axes>"
      ]
     },
     "metadata": {
      "needs_background": "light"
     },
     "output_type": "display_data"
    }
   ],
   "source": [
    "\n",
    "# \"Loss\"\n",
    "plt.plot(history.history['mae'])\n",
    "plt.plot(history.history['val_mae'])\n",
    "plt.title('model loss')\n",
    "plt.ylabel('loss')\n",
    "plt.xlabel('epoch')\n",
    "plt.legend(['train', 'validation'], loc='upper left')\n",
    "plt.show()"
   ]
  },
  {
   "cell_type": "code",
   "execution_count": 22,
   "metadata": {},
   "outputs": [],
   "source": [
    "y_pred= model.predict(X_test)"
   ]
  },
  {
   "cell_type": "code",
   "execution_count": 23,
   "metadata": {},
   "outputs": [
    {
     "data": {
      "image/png": "[encoded data removed]",
      "text/plain": [
       "<Figure size 432x288 with 1 Axes>"
      ]
     },
     "metadata": {
      "needs_background": "light"
     },
     "output_type": "display_data"
    }
   ],
   "source": [
    "fig, ax = plt.subplots()\n",
    "ax.scatter(y_test, y_pred)\n",
    "ax.plot([y_test.min(), y_test.max()], [y_test.min(), y_test.max()], 'r--', lw=4)\n",
    "ax.set_xlabel('Measured')\n",
    "ax.set_ylabel('Predicted')\n",
    "plt.show()"
   ]
  },
  {
   "cell_type": "markdown",
   "metadata": {},
   "source": [
    "## Performance Metrics"
   ]
  },
  {
   "cell_type": "code",
   "execution_count": 24,
   "metadata": {},
   "outputs": [
    {
     "name": "stdout",
     "output_type": "stream",
     "text": [
      "MAE: 0.012167645220570077\n",
      "MSE: 0.0002853306738659403\n",
      "RMSE: 0.01689173389163884\n"
     ]
    }
   ],
   "source": [
    "from sklearn import metrics\n",
    "print('MAE:', metrics.mean_absolute_error(y_test, y_pred))\n",
    "print('MSE:', metrics.mean_squared_error(y_test, y_pred))\n",
    "print('RMSE:', np.sqrt(metrics.mean_squared_error(y_test, y_pred)))"
   ]
  },
  {
   "cell_type": "markdown",
   "metadata": {},
   "source": [
    "## Linear Regression Model"
   ]
  },
  {
   "cell_type": "code",
   "execution_count": 26,
   "metadata": {},
   "outputs": [],
   "source": [
    "from sklearn.linear_model import LinearRegression"
   ]
  },
  {
   "cell_type": "code",
   "execution_count": 27,
   "metadata": {},
   "outputs": [],
   "source": [
    "lm = LinearRegression()"
   ]
  },
  {
   "cell_type": "code",
   "execution_count": 28,
   "metadata": {},
   "outputs": [
    {
     "data": {
      "text/plain": [
       "LinearRegression(copy_X=True, fit_intercept=True, n_jobs=None, normalize=False)"
      ]
     },
     "execution_count": 28,
     "metadata": {},
     "output_type": "execute_result"
    }
   ],
   "source": [
    "lm.fit(X_train,y_train)"
   ]
  },
  {
   "cell_type": "code",
   "execution_count": 29,
   "metadata": {},
   "outputs": [
    {
     "name": "stdout",
     "output_type": "stream",
     "text": [
      "[-0.00027527]\n"
     ]
    }
   ],
   "source": [
    "print(lm.intercept_)"
   ]
  },
  {
   "cell_type": "code",
   "execution_count": 30,
   "metadata": {},
   "outputs": [],
   "source": [
    "predictions = lm.predict(X_test)"
   ]
  },
  {
   "cell_type": "code",
   "execution_count": 31,
   "metadata": {},
   "outputs": [
    {
     "data": {
      "image/png": "[encoded data removed]",
      "text/plain": [
       "<Figure size 432x288 with 1 Axes>"
      ]
     },
     "metadata": {
      "needs_background": "light"
     },
     "output_type": "display_data"
    }
   ],
   "source": [
    "fig, ax = plt.subplots()\n",
    "ax.scatter(y_test, predictions)\n",
    "ax.plot([y_test.min(), y_test.max()], [y_test.min(), y_test.max()], 'k--', lw=4)\n",
    "ax.set_xlabel('Measured')\n",
    "ax.set_ylabel('Predicted')\n",
    "plt.show()"
   ]
  },
  {
   "cell_type": "markdown",
   "metadata": {},
   "source": [
    "## Performance Metrics"
   ]
  },
  {
   "cell_type": "code",
   "execution_count": 32,
   "metadata": {},
   "outputs": [
    {
     "name": "stdout",
     "output_type": "stream",
     "text": [
      "MAE: 0.05481051124445244\n",
      "MSE: 0.006159580939005525\n",
      "RMSE: 0.07848299777025292\n"
     ]
    }
   ],
   "source": [
    "from sklearn import metrics\n",
    "print('MAE:', metrics.mean_absolute_error(y_test, predictions))\n",
    "print('MSE:', metrics.mean_squared_error(y_test, predictions))\n",
    "print('RMSE:', np.sqrt(metrics.mean_squared_error(y_test, predictions)))"
   ]
  }
 ],
 "metadata": {
  "kernelspec": {
   "display_name": "Python 3",
   "language": "python",
   "name": "python3"
  },
  "language_info": {
   "codemirror_mode": {
    "name": "ipython",
    "version": 3
   },
   "file_extension": ".py",
   "mimetype": "text/x-python",
   "name": "python",
   "nbconvert_exporter": "python",
   "pygments_lexer": "ipython3",
   "version": "3.6.4"
  }
 },
 "nbformat": 4,
 "nbformat_minor": 2
}
